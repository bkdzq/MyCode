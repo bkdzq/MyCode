{
 "cells": [
  {
   "cell_type": "code",
   "execution_count": null,
   "metadata": {},
   "outputs": [],
   "source": []
  },
  {
   "cell_type": "markdown",
   "metadata": {},
   "source": [
    "多项式求解\n",
    "\n",
    "n次多项式有exactly n个解；奇数次至少有一个实数解；偶数次可能0个实数解\n",
    "\n",
    "Odd Degree Polynomials should always have at least one real root"
   ]
  },
  {
   "cell_type": "code",
   "execution_count": null,
   "metadata": {},
   "outputs": [],
   "source": [
    "import sympy\n",
    "x = sympy.symbols('x')\n",
    "eq1 = sympy.Eq(x**6-x**5+4*x**4-6*x**3+2*x**2-8*x+8,0)\n",
    "ans1 = sympy.solve(eq1,x)\n",
    "ans1"
   ]
  },
  {
   "cell_type": "code",
   "execution_count": null,
   "metadata": {},
   "outputs": [],
   "source": [
    "eq1"
   ]
  },
  {
   "cell_type": "markdown",
   "metadata": {},
   "source": [
    "sympy的画图功能\n",
    "\n",
    "某个区间作图；几个函数同时画出"
   ]
  },
  {
   "cell_type": "code",
   "execution_count": null,
   "metadata": {},
   "outputs": [],
   "source": [
    "from sympy import symbols\n",
    "from sympy.plotting import plot\n",
    "x = symbols('x')\n",
    "#p1 = plot(3*x**4-x**3-10*x**2-2*x+4, (x,-5,5))\n",
    "#p2 = plot(x,x**2,x**3,(x,-5,5))\n",
    "p3 = plot(x**2,(x,-5,5))\n"
   ]
  },
  {
   "cell_type": "markdown",
   "metadata": {},
   "source": [
    "复数运算\n",
    "\n",
    "使用sympy与普通py"
   ]
  },
  {
   "cell_type": "code",
   "execution_count": null,
   "metadata": {},
   "outputs": [],
   "source": [
    "a = 3-2*sympy.I\n",
    "b = -1+4*sympy.I\n",
    "sympy.simplify(a/b)\n",
    "\n",
    "a = 3-2j\n",
    "b = -1+4j\n",
    "a/b\n"
   ]
  },
  {
   "cell_type": "markdown",
   "metadata": {},
   "source": [
    "sympy的series和limit"
   ]
  },
  {
   "cell_type": "code",
   "execution_count": 22,
   "metadata": {},
   "outputs": [
    {
     "data": {
      "text/latex": [
       "$\\displaystyle 1$"
      ],
      "text/plain": [
       "1"
      ]
     },
     "execution_count": 22,
     "metadata": {},
     "output_type": "execute_result"
    }
   ],
   "source": [
    "from sympy import series, tan, oo,exp,limit,sin\n",
    "from sympy.abc import x\n",
    "f = exp(x)\n",
    "series(f, x, 0, 6, \"+\")#  从0处展开    展开\n",
    "\n",
    "limit(sin(x)/x, x, 0)#  求0处极限\n",
    "\n",
    "\n",
    "#  Sum可作为无限项的series\n",
    "from sympy.abc import k, a, b\n",
    "from sympy import oo,factorial\n",
    "from sympy import Sum\n",
    "Sum(1/k, (k, 2, oo))\n",
    "Sum(1/k, (k, 2, 5))#  公式形式\n",
    "Sum(1/k, (k, 2, 5)).doit()#  计算结果分数形式呈现\n",
    "Sum(1/k, (k, 2, 5)).doit().evalf()#  计算结果小数形式呈现\n",
    "\n",
    "Sum(1/(factorial(k)+1), (k, 1, oo))"
   ]
  },
  {
   "cell_type": "code",
   "execution_count": 6,
   "metadata": {},
   "outputs": [
    {
     "data": {
      "text/latex": [
       "$\\displaystyle 1 + x + \\frac{x^{2}}{2} - \\frac{x^{4}}{8} + O\\left(x^{5}\\right)$"
      ],
      "text/plain": [
       "1 + x + x**2/2 - x**4/8 + O(x**5)"
      ]
     },
     "execution_count": 6,
     "metadata": {},
     "output_type": "execute_result"
    }
   ],
   "source": []
  },
  {
   "cell_type": "code",
   "execution_count": 26,
   "metadata": {},
   "outputs": [
    {
     "data": {
      "text/latex": [
       "$\\displaystyle \\frac{77}{60}$"
      ],
      "text/plain": [
       "77/60"
      ]
     },
     "execution_count": 26,
     "metadata": {},
     "output_type": "execute_result"
    }
   ],
   "source": []
  },
  {
   "cell_type": "code",
   "execution_count": 27,
   "metadata": {},
   "outputs": [
    {
     "data": {
      "text/plain": [
       "1.2833333333333334"
      ]
     },
     "execution_count": 27,
     "metadata": {},
     "output_type": "execute_result"
    }
   ],
   "source": [
    "77/60"
   ]
  },
  {
   "cell_type": "code",
   "execution_count": null,
   "metadata": {},
   "outputs": [],
   "source": []
  }
 ],
 "metadata": {
  "interpreter": {
   "hash": "aee8b7b246df8f9039afb4144a1f6fd8d2ca17a180786b69acc140d282b71a49"
  },
  "kernelspec": {
   "display_name": "Python 3.8.3 64-bit",
   "name": "python3"
  },
  "language_info": {
   "codemirror_mode": {
    "name": "ipython",
    "version": 3
   },
   "file_extension": ".py",
   "mimetype": "text/x-python",
   "name": "python",
   "nbconvert_exporter": "python",
   "pygments_lexer": "ipython3",
   "version": "3.8.3"
  },
  "orig_nbformat": 4
 },
 "nbformat": 4,
 "nbformat_minor": 2
}
