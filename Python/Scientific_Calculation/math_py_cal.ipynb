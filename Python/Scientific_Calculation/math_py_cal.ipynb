{
 "metadata": {
  "language_info": {
   "codemirror_mode": {
    "name": "ipython",
    "version": 3
   },
   "file_extension": ".py",
   "mimetype": "text/x-python",
   "name": "python",
   "nbconvert_exporter": "python",
   "pygments_lexer": "ipython3",
   "version": "3.8.3"
  },
  "orig_nbformat": 4,
  "kernelspec": {
   "name": "python3",
   "display_name": "Python 3.8.3 64-bit"
  },
  "interpreter": {
   "hash": "aee8b7b246df8f9039afb4144a1f6fd8d2ca17a180786b69acc140d282b71a49"
  }
 },
 "nbformat": 4,
 "nbformat_minor": 2,
 "cells": [
  {
   "cell_type": "code",
   "execution_count": 1,
   "source": [
    "#  decimal type: used for finance；\n",
    "#  =================================================\n",
    "#  二进制转换为十进制  以及  十进制转换为二进制\n",
    "#  pip install -i https://pypi.tuna.tsinghua.edu.cn/simple some-package\n",
    "#  清华大学镜像\n",
    "#  >>> import site; site.getsitepackages()   显示macOS py第三方库安装路径\n",
     "# Python开头的命令在终端失效，以为是环境变量的问题，实际名称是python3....... \n",
    
    "int('00100000',2),format(192,'b')",
    "from decimal import Decimal\n",
    "num1 = Decimal('1.1')\n",
    "num2 = Decimal('1.563')\n",
    "num1 + num2  # Decimal('2.663')\n",
    "#  使用context object可以调节精度\n",
    "from decimal import getcontext\n",
    "ctx = getcontext()\n",
    "num = Decimal('1.1')\n",
    "num**4  # Decimal('1.4641')\n",
    "ctx.prec = 4 # set new precision\n",
    "num**4  # Decimal('1.464')\n",
    "\n",
    "from decimal import localcontext\n",
    "num = Decimal(\"1.1\")\n",
    "with localcontext() as ctx:  #  with statement  \n",
    "    ctx.prec = 2\n",
    "    num**4  # Decimal('1.5')\n",
    "num**4  # Decimal('1.4641')\n",
    "\n",
    "#  =================================================\n",
    "#  fraction type\n",
    "from fractions import Fraction\n",
    "num1 = Fraction(1, 3)\n",
    "num2 = Fraction(1, 7)\n",
    "num1 * num2  # Fraction(1, 21)\n",
    "#  =================================================\n",
    "#  complex type\n",
    "z = 1 + 1j\n",
    "z + 2  # 3 + 1j\n",
    "z.conjugate()  # 1 - 1j"
   ],
   "outputs": [
    {
     "output_type": "execute_result",
     "data": {
      "text/plain": [
       "(1-1j)"
      ]
     },
     "metadata": {},
     "execution_count": 1
    }
   ],
   "metadata": {}
  },
  {
   "cell_type": "code",
   "execution_count": 2,
   "source": [
    "import math\n",
    "import numpy as np\n",
    "import matplotlib.pyplot as plt\n",
    "from scipy.special import gamma\n",
    "\n",
    "x = np.linspace(-5,5,100000)\n",
    "ans = math.sqrt(Decimal(0.0225))\n",
    "a = math.log(100,10)  #  log后边的 10 才是base！！\n",
    "a1 = math.gamma(3.1)\n",
    "plt.plot(x,gamma(x))\n",
    "math.factorial(4)  #  阶乘\n",
    "math.comb(5,3)  #  n choose k\n",
    "math.gcd(100,50)  #  greatest common divisor\n",
    "math.floor(0.1)\n",
    "math.ceil(0.1)  #  floor and ceiling\n",
    "\n"
   ],
   "outputs": [
    {
     "output_type": "execute_result",
     "data": {
      "text/plain": [
       "1"
      ]
     },
     "metadata": {},
     "execution_count": 2
    },
    {
     "output_type": "display_data",
     "data": {
      "text/plain": [
       "<Figure size 432x288 with 1 Axes>"
      ],
      "image/png": "[encoded data removed]"
     },
     "metadata": {
      "needs_background": "light"
     }
    }
   ],
   "metadata": {}
  },
  {
   "cell_type": "code",
   "execution_count": 3,
   "source": [
    "class Polynomial:\n",
    "    \n",
    "    \"\"\"Basic polynomial class\"\"\" # coffs是个list [1,2,3]:0次方系数为1 、 1次方系数为2 、 二次方系数为3\n",
    "    def __init__(self, coeffs):  \n",
    "        self.coeffs = coeffs\n",
    "    def __repr__(self):\n",
    "        return f\"Polynomial({repr(self.coeffs)})\"     # 用来显示这个多项式的\n",
    "    def __call__(self, x):      # 就是给一个x 让算这个多项式的值嘛~~\n",
    "        return sum(coeff*x**i for i, coeff  # i 是次方数\n",
    "                in enumerate(self.coeffs))\n",
    "    def differentiate(self):\n",
    "        \"\"\"Differentiate the polynomial and return the derivative\"\"\"\n",
    "        coeffs = [i*c for i, c in enumerate(self.coeffs[1:],start=1)]  # index 默认 从 0 start\n",
    "        return Polynomial(coeffs)\n",
    "    def integrate(self, constant=0):\n",
    "        \"\"\"Integrate the polynomial, returning the integral\"\"\"\n",
    "        coeffs = [float(constant)]\n",
    "        coeffs += [c/i for i, c in enumerate(self.coeffs, start=1)]\n",
    "        return Polynomial(coeffs)\n"
   ],
   "outputs": [],
   "metadata": {}
  },
  {
   "cell_type": "code",
   "execution_count": 4,
   "source": [
    "p = Polynomial([1, -2, 1])\n",
    "p.differentiate()\n",
    "#  Polynomial([-2, 2])\n",
    "p.integrate(constant=2)\n",
    "#  Polynomial([2.0, 1.0, -1.0, 0.3333333333333333])\n",
    "p.__call__(0)"
   ],
   "outputs": [
    {
     "output_type": "execute_result",
     "data": {
      "text/plain": [
       "1"
      ]
     },
     "metadata": {},
     "execution_count": 4
    }
   ],
   "metadata": {}
  },
  {
   "cell_type": "code",
   "execution_count": 5,
   "source": [
    "# 要先sympy.symbols('x') 之后才能微分积分，很方便，以后积分不用谷歌了，直接sympy即可\n",
    "import sympy\n",
    "x = sympy.symbols('x')\n",
    "f = (x**2 - 2*x)*sympy.exp(3 - x)\n",
    "q = sympy.diff(f)\n",
    "F = sympy.integrate(f,x)\n",
    "print(f,'\\n',q,'\\n',sympy.simplify(q),'\\n',F) # 显示第一个：原始函数 、第二个：微分后函数、第三个：合并同类项后函数"
   ],
   "outputs": [
    {
     "output_type": "stream",
     "name": "stdout",
     "text": [
      "(x**2 - 2*x)*exp(3 - x) \n",
      " (2*x - 2)*exp(3 - x) - (x**2 - 2*x)*exp(3 - x) \n",
      " (x*(2 - x) + 2*x - 2)*exp(3 - x) \n",
      " -x**2*exp(3 - x)\n"
     ]
    }
   ],
   "metadata": {}
  },
  {
   "cell_type": "code",
   "execution_count": 1,
   "source": [
    "#  Solving Differential Equations  终于会解一维无限深势井的微分方程了！！\n",
    "import sympy\n",
    "x = sympy.symbols('x')\n",
    "k = sympy.symbols('k')\n",
    "m = sympy.symbols('m')\n",
    "w = sympy.symbols('w')\n",
    "h = sympy.symbols('h')\n",
    "ξ = sympy.symbols('ξ')\n",
    "\n",
    "\n",
    "f, g ,fi,T,fi0, v= sympy.symbols('f g fi T fi0 v', cls=sympy.Function)\n",
    "#f(x).diff(x) #  符号状的 df(x)/dx\n",
    "#T(x).diff(x)\n",
    "#  𝑓″(𝑥)−2𝑓′(𝑥)+𝑓(𝑥)=sin(𝑥)  表示这个方程  \n",
    "#diffeq = sympy.Eq(f(x).diff(x, x) - 2*f(x).diff(x) + f(x), sympy.sin(x))\n",
    "# diffeq1 = sympy.Eq(fi(x).diff(x,x),-k**2*fi(x))  \n",
    "#diffeq2 = sympy.Eq(T(x).diff(x),-k*T(x))  #  导热方程\n",
    "#diffeq3 = sympy.Eq(fi0(x).diff(x),-m*w*x/h*fi0(x)) #  griff量子力学58页微分方程\n",
    "#diffeq4 = sympy.Eq(fi(ξ).diff(ξ,ξ),ξ**2*fi(ξ)) #  griff量子力学63页微分方程\n",
    "# diffeq5 = sympy.Eq(v(x).diff(x),k*x) #  dv/dx = kx  弹簧x方向拉力=势能x方向梯度\n",
    "diffeq6 = sympy.Eq(fi(ξ).diff(ξ,ξ)-ξ**2*fi(ξ),0)\n",
    "\n",
    "#de_ans = sympy.dsolve(diffeq, f(x))\n",
    "# de_ans1 = sympy.dsolve(diffeq1, fi(x))\n",
    "#de_ans2 = sympy.dsolve(diffeq2, T(x))\n",
    "# de_ans3 = sympy.dsolve(diffeq3, fi0(x))  #  正确！\n",
    "# de_ans4 = sympy.dsolve(diffeq4, fi(ξ))  #  不符合\n",
    "# de_ans5 = sympy.dsolve(diffeq5, v(x))  #  正确\n",
    "de_ans6 = sympy.dsolve(diffeq6, fi(ξ))\n",
    "de_ans6\n"
   ],
   "outputs": [
    {
     "output_type": "execute_result",
     "data": {
      "text/plain": [
       "Eq(fi(ξ), C2*(ξ**4/12 + 1) + C1*ξ*(ξ**4/20 + 1) + O(ξ**6))"
      ],
      "text/latex": [
       "$\\displaystyle \\operatorname{fi}{\\left(ξ \\right)} = C_{2} \\left(\\frac{ξ^{4}}{12} + 1\\right) + C_{1} ξ \\left(\\frac{ξ^{4}}{20} + 1\\right) + O\\left(ξ^{6}\\right)$"
      ]
     },
     "metadata": {},
     "execution_count": 1
    }
   ],
   "metadata": {}
  },
  {
   "cell_type": "code",
   "execution_count": 7,
   "source": [
    "import sympy\n",
    "from sympy import oo\n",
    "x = sympy.symbols('x')\n",
    "f = x*(x - 2)*sympy.exp(3 - x)  #  \n",
    "ans1 = sympy.solve(f,x)\n",
    "#  =======以上简单解法=======\n",
    "#  AP math86页用scipy 两种方法使用牛顿法解方程 繁琐\n"
   ],
   "outputs": [],
   "metadata": {}
  },
  {
   "cell_type": "code",
   "execution_count": 8,
   "source": [
    "#  sympy除了analytical积分；还可以numerical积分给出积分上下限即可\n",
    "#ans2 = sympy.integrate(x**2,(x,-1,+1))\n",
    "#ans2 = sympy.integrate(sympy.exp(-x**2),(x,-1,+1))\n",
    "#sympy.N(ans2)  #  还可以让其变成数值\n"
   ],
   "outputs": [],
   "metadata": {}
  },
  {
   "cell_type": "code",
   "execution_count": 4,
   "source": [
    "#  Solving systems of differential equations  解微分方程组！！\n",
    "import sympy\n",
    "from sympy.solvers.ode.systems import dsolve_system\n",
    "\n",
    "t = sympy.symbols('t')\n",
    "ξ = sympy.symbols('ξ')\n",
    "P, W, f= sympy.symbols('P W f', cls=sympy.Function)\n",
    "\n",
    "# eq1 = sympy.Eq(P(t).diff(t), 5*P(t)-0.1*W(t)*P(t))\n",
    "# eq2 = sympy.Eq(W(t).diff(t), 0.1*P(t)*W(t)-6*W(t))  #  sympy解不了，估计要scipy\n",
    "# eq1 = sympy.Eq(P(t).diff(t), 5*P(t))\n",
    "# eq2 = sympy.Eq(W(t).diff(t), 6*W(t))\n",
    "\n",
    "\n",
    "# eqs = [eq1,eq2]\n",
    "# ans = dsolve_system(eqs,ics={P(0): 85, W(0): 40})\n",
    "#  dsolve_system(eqs, ics={f(0): 1, g(0): 0})  #  可以加入初始条件\n",
    "\n"
   ],
   "outputs": [
    {
     "output_type": "execute_result",
     "data": {
      "text/plain": [
       "[[Eq(f(ξ), C2 + C2*ξ**4/12 + C1*ξ + C1*ξ**5/20 + O(ξ**6))]]"
      ]
     },
     "metadata": {},
     "execution_count": 4
    }
   ],
   "metadata": {}
  },
  {
   "cell_type": "code",
   "execution_count": 23,
   "source": [
    "#  使用sympy积分，算<x> <p>期望值\n",
    "#  integrate(f, (x, a, b)) returns the definite integral==>  integrate(x**2 + x + 1, x)\n",
    "#  多加几个限定就可以了，<x>确实是a/2!!!!!!!!!!!!!!!!!!!!!!!!!!!!!!!!!!!!!!!!!!!!!!!!!!!!!!!\n",
    "import sympy\n",
    "x = sympy.symbols('x',nonzero=True)\n",
    "a = sympy.symbols('a',nonzero=True)\n",
    "n = sympy.symbols('n',integer = True,nonzero=True)\n",
    "f = x*(2/a*sympy.sin(n*sympy.pi*x/a)**2)\n",
    "ans = sympy.integrate(f,(x,0,a))\n",
    "#  <x> = a/2\n",
    "\n"
   ],
   "outputs": [],
   "metadata": {}
  },
  {
   "cell_type": "code",
   "execution_count": 30,
   "source": [
    "#  算<x**2>值  正确！！\n",
    "import sympy\n",
    "x = sympy.symbols('x',nonzero=True,real=True)\n",
    "a = sympy.symbols('a',nonzero=True,real=True)\n",
    "n = sympy.symbols('n',integer = True,nonzero=True)\n",
    "f = x**2*(2/a*sympy.sin(n*sympy.pi*x/a)**2)\n",
    "ans = sympy.integrate(f,(x,0,a))\n",
    "#  得出<x**2> 的值，正确！！！\n"
   ],
   "outputs": [],
   "metadata": {}
  },
  {
   "cell_type": "code",
   "execution_count": 33,
   "source": [
    "sympy.diff(sympy.sin(x),x)"
   ],
   "outputs": [
    {
     "output_type": "execute_result",
     "data": {
      "text/plain": [
       "cos(x)"
      ],
      "text/latex": [
       "$\\displaystyle \\cos{\\left(x \\right)}$"
      ]
     },
     "metadata": {},
     "execution_count": 33
    }
   ],
   "metadata": {}
  },
  {
   "cell_type": "code",
   "execution_count": 47,
   "source": [
    "from sympy import conjugate , I, pi,sin,exp\n",
    "#  https://www.youtube.com/watch?v=eQggHzwJLJU&list=PLKxxVVdhQNB6EmcVXk_sqBPp8wf_fBjxP&index=17&ab_channel=HayashiManabu\n",
    "#  计算<x>   已知  φ(x,t)  problem2.5c\n",
    "x = sympy.symbols('x',nonzero=True,real=True)\n",
    "a = sympy.symbols('a',nonzero=True,real=True)\n",
    "t = sympy.symbols('t',nonzero=True,real=True)\n",
    "f1 = x*sin(pi*x/a)**2\n",
    "f2 = x*sin(2*pi*x/a)**2\n",
    "f3 = x*sin(pi*x/a)*sin(2*pi*x/a)\n",
    "\n",
    "ans1 = sympy.integrate(f1,(x,0,a))  #  a**2/4  正确\n",
    "ans2 = sympy.integrate(f2,(x,0,a))  #  正确\n",
    "ans3 = sympy.integrate(f3,(x,0,a))  #  正确\n",
    "\n"
   ],
   "outputs": [],
   "metadata": {}
  },
  {
   "cell_type": "code",
   "execution_count": 53,
   "source": [
    "ans4"
   ],
   "outputs": [
    {
     "output_type": "execute_result",
     "data": {
      "text/plain": [
       "-a**6/(18*pi**2)"
      ],
      "text/latex": [
       "$\\displaystyle - \\frac{a^{6}}{18 \\pi^{2}}$"
      ]
     },
     "metadata": {},
     "execution_count": 53
    }
   ],
   "metadata": {}
  },
  {
   "cell_type": "code",
   "execution_count": 56,
   "source": [
    "#  griff量子力学problem 2.7\n",
    "A = sympy.symbols('A',nonzero=True,real=True)\n",
    "a = sympy.symbols('a',nonzero=True,real=True)\n",
    "x = sympy.symbols('x',nonzero=True,real=True)\n",
    "f1 = A*x\n",
    "f2 = A*(a-x)\n",
    "\n",
    "ans1 = sympy.integrate(f1**2,(x,0,a/2))  #  a**2/4  正确\n",
    "ans2 = sympy.integrate(f2**2,(x,a/2,a))  #  正确\n",
    "ans3 = ans1+ans2\n"
   ],
   "outputs": [],
   "metadata": {}
  },
  {
   "cell_type": "code",
   "execution_count": 57,
   "source": [
    "ans3"
   ],
   "outputs": [
    {
     "output_type": "execute_result",
     "data": {
      "text/plain": [
       "A**2*a**3/12"
      ],
      "text/latex": [
       "$\\displaystyle \\frac{A^{2} a^{3}}{12}$"
      ]
     },
     "metadata": {},
     "execution_count": 57
    }
   ],
   "metadata": {}
  },
  {
   "cell_type": "code",
   "execution_count": 13,
   "source": [
    "#==================================================积分求解==============================================================================================\n",
    "#  griff量子力学problem 2.7 第二问； 2.8\n",
    "#  证明一维无限深势井φm φn 正交 (积分f4==答案ans4)\n",
    "#  验证exp2.248页 f5==>ans5\n",
    "import sympy\n",
    "from sympy import oo\n",
    "m = sympy.symbols('m',integer=True,nonzero=True,real=True)\n",
    "n = sympy.symbols('n',integer=True,nonzero=True,real=True,positive=True)\n",
    "a = sympy.symbols('a',nonzero=True,real=True,positive=True)\n",
    "x = sympy.symbols('x',nonzero=True,real=True)\n",
    "y = sympy.symbols('y',nonzero=True,real=True)\n",
    "r = sympy.symbols('r',nonzero=True,real=True)\n",
    "λ = sympy.symbols('λ',nonzero=True,real=True)\n",
    "A = sympy.symbols('A',nonzero=True,real=True)\n",
    "θ = sympy.symbols('θ',nonzero=True,real=True)\n",
    "\n",
    "w = sympy.symbols('w',nonzero=True,real=True)\n",
    "h = sympy.symbols('h',nonzero=True,real=True,positive=True)\n",
    "k = sympy.symbols('k',nonzero=True,real=True,positive=True)\n",
    "i = sympy.symbols('i',nonzero=True,complex=True)\n",
    "\n",
    "# f1 = x*sympy.sin(m*sympy.pi*x/a)\n",
    "# f2 = (a-x)*sympy.sin(m*sympy.pi*x/a)\n",
    "# f3 = sympy.sin(sympy.pi*x/a)\n",
    "# f4 = 2/a*sin(m*pi*x/a)*sin(n*pi*x/a)\n",
    "# f5 = sin(n*pi*x/a)*sympy.sqrt(30/a**5)*x*(a-x)\n",
    "# f6 = (2*m*w/h*x**2-1)*sympy.exp(-m*w*x**2/h)\n",
    "# f7 = x**2*sympy.exp(-k*x**2)\n",
    "# f8 = y**2*sympy.exp(-y**2)\n",
    "# f9 = 1+4*x*y\n",
    "# f10 = 3*x**2-3*x*y**2\n",
    "f11 = 3*x**2-3*x*y**2\n",
    "\n",
    "\n",
    "\n",
    "\n",
    "# ans1 = sympy.integrate(f1,(x,0,a/2))  #  对了！\n",
    "# ans2 = sympy.integrate(f2,(x,a/2,a))  #  存疑\n",
    "# ans3 = sympy.integrate(f3,(x,0,a/2))\n",
    "# ans4 = sympy.integrate(f4,(x,0,a))  #  完美 m=n 为1 不等于为 0\n",
    "# ans5 = sympy.integrate(f5,(x,0,a))\n",
    "# ans3 = ans3*2/a  #  2/pi  对了！\n",
    "# ans5 = ans5*sympy.sqrt(2/a)  #  正确 但n为奇数需要人工化简\n",
    "# ans6 = sympy.integrate(f6,(x,-oo,oo))\n",
    "# ans7 = sympy.integrate(f7,(x,-oo,oo))\n",
    "# ans8 = sympy.integrate(f8,(y,-oo,oo))\n",
    "# ans9 = sympy.integrate(f9,(x,0,1),(y,1,3))#  二重积分\n",
    "#ans10 = sympy.integrate(f10,(y,x**2,2*x),(x,0,2))#  二重积分 先积分y；后积分x\n",
    "ans11 = sympy.integrate(f11,(x,y/2,sympy.sqrt(y)),(y,0,4))#  二重积分，先积分x，后积分y\n"
   ],
   "outputs": [],
   "metadata": {}
  },
  {
   "cell_type": "code",
   "execution_count": 10,
   "source": [
    "ans11"
   ],
   "outputs": [
    {
     "output_type": "execute_result",
     "data": {
      "text/plain": [
       "-72/5"
      ],
      "text/latex": [
       "$\\displaystyle - \\frac{72}{5}$"
      ]
     },
     "metadata": {},
     "execution_count": 10
    }
   ],
   "metadata": {}
  },
  {
   "cell_type": "code",
   "execution_count": 14,
   "source": [
    "#=======================================================微分方程求解=========================================================================================\n",
    "# #  Solving Differential Equations  终于会解一维无限深势井的微分方程了！！\n",
    "import sympy\n",
    "#x = sympy.symbols('x')\n",
    "k = sympy.symbols('k')\n",
    "f, g ,fi= sympy.symbols('f g fi', cls=sympy.Function)\n",
    "f(x).diff(x) #  符号状的 df(x)/dx\n",
    "\n",
    "#  𝑓″(𝑥)−2𝑓′(𝑥)+𝑓(𝑥)=sin(𝑥)  表示这个方程\n",
    "#diffeq = sympy.Eq(f(x).diff(x, x) - 2*f(x).diff(x) + f(x), sympy.sin(x))\n",
    "diffeq1 = sympy.Eq(fi(x).diff(x,x),-k**2*fi(x))\n",
    "#de_ans = sympy.dsolve(diffeq, f(x))\n",
    "de_ans1 = sympy.dsolve(diffeq1, fi(x))\n"
   ],
   "outputs": [
    {
     "output_type": "execute_result",
     "data": {
      "text/plain": [
       "-72/5"
      ],
      "text/latex": [
       "$\\displaystyle - \\frac{72}{5}$"
      ]
     },
     "metadata": {},
     "execution_count": 14
    }
   ],
   "metadata": {}
  },
  {
   "cell_type": "code",
   "execution_count": 8,
   "source": [],
   "outputs": [],
   "metadata": {}
  },
  {
   "cell_type": "code",
   "execution_count": 9,
   "source": [
    "eq"
   ],
   "outputs": [
    {
     "output_type": "execute_result",
     "data": {
      "text/plain": [
       "Eq(-Derivative(u(x, t), (t, 2)) + Derivative(u(x, t), x), 0)"
      ],
      "text/latex": [
       "$\\displaystyle - \\frac{\\partial^{2}}{\\partial t^{2}} u{\\left(x,t \\right)} + \\frac{\\partial}{\\partial x} u{\\left(x,t \\right)} = 0$"
      ]
     },
     "metadata": {},
     "execution_count": 9
    }
   ],
   "metadata": {}
  },
  {
   "cell_type": "code",
   "execution_count": null,
   "source": [],
   "outputs": [],
   "metadata": {}
  }
 ]
}
